{
 "cells": [
  {
   "cell_type": "code",
   "execution_count": 1,
   "id": "bd4d90b5",
   "metadata": {},
   "outputs": [],
   "source": [
    "import pickle\n",
    "import numpy as np\n",
    "import pandas as pd\n",
    "from sklearn.model_selection import GridSearchCV\n",
    "from sklearn.neighbors import KNeighborsClassifier\n",
    "from sklearn.metrics import classification_report"
   ]
  },
  {
   "cell_type": "code",
   "execution_count": 2,
   "id": "24b42c16",
   "metadata": {},
   "outputs": [],
   "source": [
    "X_train = pickle.load(open('X_train.unknown','rb'))\n",
    "\n",
    "X_test= pickle.load(open('X_test.unknown','rb'))\n",
    "\n",
    "y_test= pickle.load(open('y_test.unknown','rb'))\n",
    "\n",
    "y_train= pickle.load(open('y_train.unknown','rb'))"
   ]
  },
  {
   "cell_type": "code",
   "execution_count": 3,
   "id": "a3a898d8",
   "metadata": {},
   "outputs": [
    {
     "name": "stdout",
     "output_type": "stream",
     "text": [
      "[  1   2   3   4   5   6   7   8   9  10  11  12  13  14  15  16  17  18\n",
      "  19  20  21  22  23  24  25  26  27  28  29  30 130 131 132 133 134 135\n",
      " 136 137 138 139 140 141 142 143 144 145 146 147 148 149 150]\n"
     ]
    }
   ],
   "source": [
    "\n",
    "x = np.arange(1, 31)\n",
    "x = np.concatenate([x, np.arange(130, 151)])\n",
    "print(x)"
   ]
  },
  {
   "cell_type": "code",
   "execution_count": 4,
   "id": "4246303f",
   "metadata": {},
   "outputs": [
    {
     "name": "stdout",
     "output_type": "stream",
     "text": [
      "Best KNN Parameters: {'metric': 'manhattan', 'n_neighbors': 6, 'weights': 'distance'}\n",
      "Classification Report:\n",
      "               precision    recall  f1-score   support\n",
      "\n",
      "           0       0.96      0.97      0.97      4440\n",
      "           1       0.97      0.96      0.97      4360\n",
      "\n",
      "    accuracy                           0.97      8800\n",
      "   macro avg       0.97      0.97      0.97      8800\n",
      "weighted avg       0.97      0.97      0.97      8800\n",
      "\n"
     ]
    }
   ],
   "source": [
    "\n",
    "# Define a range of parameters for grid search\n",
    "param_grid = {\n",
    "    'n_neighbors': x,  # Range of k values\n",
    "    'weights': ['uniform', 'distance'],  # Weighting options\n",
    "    'metric': ['euclidean', 'manhattan']  # Distance metrics\n",
    "}\n",
    "\n",
    "# Create the KNN classifier\n",
    "knn = KNeighborsClassifier()\n",
    "\n",
    "# Perform grid search with cross-validation\n",
    "grid_search = GridSearchCV(knn, param_grid, cv=5, scoring='accuracy')\n",
    "grid_search.fit(X_train, y_train)\n",
    "\n",
    "# Get the best parameters\n",
    "best_params = grid_search.best_params_\n",
    "\n",
    "# Train a KNN classifier with the best parameters\n",
    "best_knn = KNeighborsClassifier(n_neighbors=best_params['n_neighbors'],\n",
    "                               weights=best_params['weights'],\n",
    "                               metric=best_params['metric'])\n",
    "best_knn.fit(X_train, y_train)\n",
    "\n",
    "# Make predictions on the test set\n",
    "y_pred = best_knn.predict(X_test)\n",
    "\n",
    "# Output the classification report\n",
    "report = classification_report(y_test, y_pred)\n",
    "print(\"Best KNN Parameters:\", best_params)\n",
    "print(\"Classification Report:\\n\", report)\n"
   ]
  },
  {
   "cell_type": "code",
   "execution_count": null,
   "id": "a9d0f3a9",
   "metadata": {},
   "outputs": [],
   "source": []
  },
  {
   "cell_type": "code",
   "execution_count": null,
   "id": "5684a64c",
   "metadata": {},
   "outputs": [],
   "source": []
  }
 ],
 "metadata": {
  "kernelspec": {
   "display_name": "Python 3 (ipykernel)",
   "language": "python",
   "name": "python3"
  },
  "language_info": {
   "codemirror_mode": {
    "name": "ipython",
    "version": 3
   },
   "file_extension": ".py",
   "mimetype": "text/x-python",
   "name": "python",
   "nbconvert_exporter": "python",
   "pygments_lexer": "ipython3",
   "version": "3.11.5"
  }
 },
 "nbformat": 4,
 "nbformat_minor": 5
}
